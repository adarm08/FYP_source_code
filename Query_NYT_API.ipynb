{
 "cells": [
  {
   "cell_type": "code",
   "execution_count": null,
   "metadata": {},
   "outputs": [],
   "source": [
    "import json\n",
    "import requests\n",
    "import pandas as pd\n",
    "from datetime import date, timedelta\n",
    "import collections\n",
    "from nltk import tokenize\n",
    "from nltk.tokenize import RegexpTokenizer\n",
    "from nltk import sent_tokenize\n",
    "from nltk.corpus import stopwords\n",
    "from nltk.stem import PorterStemmer\n",
    "from nltk.tokenize import word_tokenize\n",
    "import numpy as np\n",
    "import yfinance as yf\n",
    "import matplotlib.pyplot as plt\n",
    "import pickle\n",
    "import time\n",
    "import pytz\n",
    "import datetime\n",
    "import torch\n",
    "import sklearn.feature_extraction\n",
    "import sklearn.model_selection\n",
    "import random\n",
    "from sklearn.metrics import accuracy_score \n",
    "from sklearn import svm\n",
    "from sklearn import metrics\n",
    "from sklearn.linear_model import LogisticRegression\n",
    "from sklearn.ensemble import RandomForestClassifier\n",
    "from sklearn.preprocessing import StandardScaler\n",
    "from sklearn.model_selection import train_test_split\n",
    "\n",
    "import pynytimes\n",
    "from pynytimes import NYTAPI\n",
    "\n",
    "device = 'cuda:0' if torch.cuda.is_available() else 'cpu'"
   ]
  },
  {
   "cell_type": "code",
   "execution_count": null,
   "metadata": {},
   "outputs": [],
   "source": [
    "# Using New York Times API (extracting data from 2016-2020(april))"
   ]
  },
  {
   "cell_type": "code",
   "execution_count": null,
   "metadata": {},
   "outputs": [],
   "source": [
    "# News from the business section \n",
    "start_date = date(2023, 3, 31)\n",
    "end_date = date(2023, 4, 28) \n",
    "delta = end_date - start_date"
   ]
  },
  {
   "cell_type": "code",
   "execution_count": null,
   "metadata": {},
   "outputs": [],
   "source": [
    "# do not run\n",
    "# Getting the articles from NYT\n",
    "# Using New York Times as a news Source\n",
    "apikey = \"#InsetAPIKey\"\n",
    "nytapi = pynytimes.NYTAPI(apikey, parse_dates=True)\n",
    "\n",
    "# searching for the articles (API T&S: 6 seconds between calls)\n",
    "# loop through the days getting '100' articles per day\n",
    "data = []\n",
    "for i in range(delta.days + 1):\n",
    "    day = start_date + timedelta(days=i)\n",
    "    atricles_day = nytapi.article_search(\n",
    "        # Query\n",
    "        query = '',\n",
    "        # Number of results\n",
    "        results = 100,\n",
    "        # Dates of articles\n",
    "        dates = {\n",
    "            \"begin\": day,\n",
    "            \"end\": day\n",
    "        },\n",
    "        # Other options\n",
    "        options = {\n",
    "            \"sort\": \"relevance\",\n",
    "\n",
    "            \"type_of_material\": [\n",
    "                \"News Analysis\", \"News\", \"Article\"\n",
    "            ] ,\n",
    "\n",
    "            \"news_desk\": [\n",
    "                \"Financial\",\n",
    "                \"Business\",\n",
    "                \"Business Day\",\n",
    "            ],\n",
    "        }\n",
    "    )\n",
    "    \n",
    "    data += atricles_day\n",
    "    \n",
    "    time.sleep(6)"
   ]
  },
  {
   "cell_type": "code",
   "execution_count": null,
   "metadata": {},
   "outputs": [],
   "source": [
    "news_df = pd.DataFrame(columns = ['Date', 'Headline', 'Abstract', 'Source'])\n",
    "for article in data:\n",
    "    news_df = news_df.append({'Date' : article['pub_date'], 'Headline' : article['headline']['main'], 'Abstract': article['abstract'], 'Source' : article['source']}, ignore_index = True)"
   ]
  },
  {
   "cell_type": "code",
   "execution_count": null,
   "metadata": {},
   "outputs": [],
   "source": [
    "news_df"
   ]
  }
 ],
 "metadata": {
  "kernelspec": {
   "display_name": "Python 3 (ipykernel)",
   "language": "python",
   "name": "python3"
  },
  "language_info": {
   "codemirror_mode": {
    "name": "ipython",
    "version": 3
   },
   "file_extension": ".py",
   "mimetype": "text/x-python",
   "name": "python",
   "nbconvert_exporter": "python",
   "pygments_lexer": "ipython3",
   "version": "3.9.13"
  }
 },
 "nbformat": 4,
 "nbformat_minor": 4
}
